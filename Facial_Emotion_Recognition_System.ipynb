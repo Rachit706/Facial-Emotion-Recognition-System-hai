{
 "cells": [
  {
   "cell_type": "code",
   "execution_count": null,
   "id": "c1b3e2d1-49e1-479c-89a1-0ef8b804c156",
   "metadata": {},
   "outputs": [],
   "source": [
    "import cv2\n",
    "from fer import FER\n",
    "\n",
    "# Initialize video capture and emotion detector\n",
    "cap = cv2.VideoCapture(0)\n",
    "detector = FER(mtcnn=True)  # More accurate detection\n",
    "\n",
    "while True:\n",
    "    ret, frame = cap.read()\n",
    "    if not ret:\n",
    "        break\n",
    "\n",
    "    # Flip the frame for natural interaction\n",
    "    frame = cv2.flip(frame, 1)\n",
    "\n",
    "    # Detect emotions in the frame\n",
    "    result = detector.detect_emotions(frame)\n",
    "\n",
    "    for face in result:\n",
    "        (x, y, w, h) = face[\"box\"]\n",
    "        emotions = face[\"emotions\"]\n",
    "\n",
    "        # Get emotion with highest confidence\n",
    "        top_emotion = max(emotions, key=emotions.get)\n",
    "        confidence = emotions[top_emotion]\n",
    "\n",
    "        # Draw rectangle and emotion label\n",
    "        cv2.rectangle(frame, (x, y), (x + w, y + h), (0, 255, 255), 2)\n",
    "        cv2.putText(frame, f'{top_emotion} ({confidence:.2f})', (x, y - 10),\n",
    "                    cv2.FONT_HERSHEY_SIMPLEX, 0.9, (255, 0, 0), 2)\n",
    "\n",
    "    cv2.imshow(\"Facial Emotion Recognition\", frame)\n",
    "\n",
    "    if cv2.waitKey(1) & 0xFF == ord('q'):\n",
    "        break\n",
    "\n",
    "cap.release()\n",
    "cv2.destroyAllWindows()\n"
   ]
  },
  {
   "cell_type": "code",
   "execution_count": null,
   "id": "8841e22c-eb98-47d5-804c-d34a0bef4b99",
   "metadata": {},
   "outputs": [],
   "source": []
  }
 ],
 "metadata": {
  "kernelspec": {
   "display_name": "Python 3 (ipykernel)",
   "language": "python",
   "name": "python3"
  },
  "language_info": {
   "codemirror_mode": {
    "name": "ipython",
    "version": 3
   },
   "file_extension": ".py",
   "mimetype": "text/x-python",
   "name": "python",
   "nbconvert_exporter": "python",
   "pygments_lexer": "ipython3",
   "version": "3.10.11"
  }
 },
 "nbformat": 4,
 "nbformat_minor": 5
}
